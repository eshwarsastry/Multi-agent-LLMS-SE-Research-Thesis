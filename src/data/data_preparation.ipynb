{
 "cells": [
  {
   "cell_type": "markdown",
   "id": "63a23650",
   "metadata": {},
   "source": [
    "Data preparation step of fetching all the legacy C++ programs from the inputs folder and storing it as a 'input_program.json' JSON file for easier processing"
   ]
  },
  {
   "cell_type": "code",
   "execution_count": 10,
   "id": "5e0ceba3",
   "metadata": {},
   "outputs": [],
   "source": [
    "import os\n",
    "import json"
   ]
  },
  {
   "cell_type": "markdown",
   "id": "d98ec3c8",
   "metadata": {},
   "source": [
    "fetch and store the file path"
   ]
  },
  {
   "cell_type": "code",
   "execution_count": 11,
   "id": "55e88adc",
   "metadata": {},
   "outputs": [],
   "source": [
    "cpp_program_dir = r'D:\\TUK\\Master_Thesis\\ClassEval_T\\cpp\\solution'\n",
    "output_json = r'D:\\TUK\\Master_Thesis\\Multi-agent-LLMS-SE-Research-Thesis\\src\\inputs\\input_program.json' \n",
    "ground_truth_dir = r'D:\\TUK\\Master_Thesis\\ClassEval_T\\py\\solution'\n",
    "ground_truth_json = r'D:\\TUK\\Master_Thesis\\Multi-agent-LLMS-SE-Research-Thesis\\src\\inputs\\ground_truth.json' "
   ]
  },
  {
   "cell_type": "markdown",
   "id": "7f8f88e4",
   "metadata": {},
   "source": [
    "Functionality to fetch the file and store it as a json"
   ]
  },
  {
   "cell_type": "code",
   "execution_count": 12,
   "id": "41b54ddb",
   "metadata": {},
   "outputs": [],
   "source": [
    "\n",
    "def extract_data_into_json(program_dir, output_json, extension):\n",
    "    \"\"\"\n",
    "    Extracts program files from the specified directory and saves their contents into a JSON file.\n",
    "    \n",
    "    :param program_dir: Directory containing program files.\n",
    "    :param output_json: Path to the output JSON file.\n",
    "    \"\"\"\n",
    "    if not os.path.exists(program_dir):\n",
    "        raise FileNotFoundError(f\"The directory {program_dir} does not exist.\")\n",
    "    \n",
    "    if not os.path.isdir(program_dir):\n",
    "        raise NotADirectoryError(f\"The path {program_dir} is not a directory.\")\n",
    "    program_files = [f for f in os.listdir(program_dir) if f.endswith(extension)]\n",
    "    program_data = {}\n",
    "\n",
    "    for filename in program_files:\n",
    "        file_path = os.path.join(program_dir, filename)\n",
    "        name_without_ext = os.path.splitext(filename)[0]\n",
    "        with open(file_path, 'r', encoding='utf-8') as f:\n",
    "            program_data[name_without_ext] = f.read()\n",
    "\n",
    "    with open(output_json, 'w', encoding='utf-8') as out_json:\n",
    "        json.dump(program_data, out_json, indent=2, ensure_ascii=False)\n",
    "\n",
    "    print(f'Successfully saved {len(program_data)} files to {output_json}')"
   ]
  },
  {
   "cell_type": "code",
   "execution_count": 13,
   "id": "e33c7654",
   "metadata": {},
   "outputs": [
    {
     "name": "stdout",
     "output_type": "stream",
     "text": [
      "Successfully saved 94 files to D:\\TUK\\Master_Thesis\\Multi-agent-LLMS-SE-Research-Thesis\\src\\inputs\\input_program.json\n",
      "Successfully saved 94 files to D:\\TUK\\Master_Thesis\\Multi-agent-LLMS-SE-Research-Thesis\\src\\inputs\\ground_truth.json\n"
     ]
    }
   ],
   "source": [
    "extract_data_into_json(cpp_program_dir, output_json, '.cpp')\n",
    "extract_data_into_json(ground_truth_dir, ground_truth_json, '.py')"
   ]
  }
 ],
 "metadata": {
  "kernelspec": {
   "display_name": ".venv (3.11.9)",
   "language": "python",
   "name": "python3"
  },
  "language_info": {
   "codemirror_mode": {
    "name": "ipython",
    "version": 3
   },
   "file_extension": ".py",
   "mimetype": "text/x-python",
   "name": "python",
   "nbconvert_exporter": "python",
   "pygments_lexer": "ipython3",
   "version": "3.11.9"
  }
 },
 "nbformat": 4,
 "nbformat_minor": 5
}
